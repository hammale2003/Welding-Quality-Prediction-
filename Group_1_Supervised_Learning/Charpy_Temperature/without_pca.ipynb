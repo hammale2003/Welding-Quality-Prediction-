{
 "cells": [
  {
   "cell_type": "markdown",
   "id": "f0056742",
   "metadata": {},
   "source": [
    "hhhhhhhhhhhhh"
   ]
  },
  {
   "cell_type": "markdown",
   "id": "2ca2c563",
   "metadata": {},
   "source": []
  }
 ],
 "metadata": {
  "language_info": {
   "name": "python"
  }
 },
 "nbformat": 4,
 "nbformat_minor": 5
}
