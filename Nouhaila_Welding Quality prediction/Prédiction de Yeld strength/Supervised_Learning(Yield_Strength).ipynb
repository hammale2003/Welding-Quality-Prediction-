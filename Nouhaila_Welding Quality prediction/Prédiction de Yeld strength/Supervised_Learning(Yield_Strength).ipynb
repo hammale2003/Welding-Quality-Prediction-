{
  "cells": [
    {
      "cell_type": "code",
      "execution_count": 1,
      "metadata": {
        "colab": {
          "base_uri": "https://localhost:8080/",
          "height": 690
        },
        "id": "VP-cOHLySJkT",
        "outputId": "276adc2c-acae-4a31-ed78-5fbaebf09fb8"
      },
      "outputs": [
        {
          "name": "stderr",
          "output_type": "stream",
          "text": [
            "<>:3: SyntaxWarning: invalid escape sequence '\\w'\n",
            "<>:3: SyntaxWarning: invalid escape sequence '\\w'\n",
            "C:\\Users\\user\\AppData\\Local\\Temp\\ipykernel_18124\\2023013346.py:3: SyntaxWarning: invalid escape sequence '\\w'\n",
            "  df = pd.read_csv(\"/Welding-Quality-Prediction-\\welddatabase\\welddb_new.csv\")\n"
          ]
        },
        {
          "data": {
            "text/html": [
              "<div>\n",
              "<style scoped>\n",
              "    .dataframe tbody tr th:only-of-type {\n",
              "        vertical-align: middle;\n",
              "    }\n",
              "\n",
              "    .dataframe tbody tr th {\n",
              "        vertical-align: top;\n",
              "    }\n",
              "\n",
              "    .dataframe thead th {\n",
              "        text-align: right;\n",
              "    }\n",
              "</style>\n",
              "<table border=\"1\" class=\"dataframe\">\n",
              "  <thead>\n",
              "    <tr style=\"text-align: right;\">\n",
              "      <th></th>\n",
              "      <th>Carbon_%</th>\n",
              "      <th>Silicon_%</th>\n",
              "      <th>Manganese_%</th>\n",
              "      <th>Sulphur_%</th>\n",
              "      <th>Phosphorus_%</th>\n",
              "      <th>Nickel_%</th>\n",
              "      <th>Chromium_%</th>\n",
              "      <th>Molybdenum_%</th>\n",
              "      <th>Vanadium_%</th>\n",
              "      <th>Copper_%</th>\n",
              "      <th>...</th>\n",
              "      <th>Weld_Type_GMAA</th>\n",
              "      <th>Weld_Type_GTAA</th>\n",
              "      <th>Weld_Type_MMA</th>\n",
              "      <th>Weld_Type_NGGMA</th>\n",
              "      <th>Weld_Type_NGSAW</th>\n",
              "      <th>Weld_Type_SA</th>\n",
              "      <th>Weld_Type_SAA</th>\n",
              "      <th>Weld_Type_ShMA</th>\n",
              "      <th>Weld_Type_TSA</th>\n",
              "      <th>Heat_Input_J_mm</th>\n",
              "    </tr>\n",
              "  </thead>\n",
              "  <tbody>\n",
              "    <tr>\n",
              "      <th>0</th>\n",
              "      <td>0.037</td>\n",
              "      <td>0.30</td>\n",
              "      <td>0.65</td>\n",
              "      <td>0.008</td>\n",
              "      <td>0.012</td>\n",
              "      <td>0.0</td>\n",
              "      <td>0.0</td>\n",
              "      <td>0.0</td>\n",
              "      <td>0.0</td>\n",
              "      <td>0.0</td>\n",
              "      <td>...</td>\n",
              "      <td>0</td>\n",
              "      <td>0</td>\n",
              "      <td>1</td>\n",
              "      <td>0</td>\n",
              "      <td>0</td>\n",
              "      <td>0</td>\n",
              "      <td>0</td>\n",
              "      <td>0</td>\n",
              "      <td>0</td>\n",
              "      <td>1000.0</td>\n",
              "    </tr>\n",
              "    <tr>\n",
              "      <th>1</th>\n",
              "      <td>0.037</td>\n",
              "      <td>0.30</td>\n",
              "      <td>0.65</td>\n",
              "      <td>0.008</td>\n",
              "      <td>0.012</td>\n",
              "      <td>0.0</td>\n",
              "      <td>0.0</td>\n",
              "      <td>0.0</td>\n",
              "      <td>0.0</td>\n",
              "      <td>0.0</td>\n",
              "      <td>...</td>\n",
              "      <td>0</td>\n",
              "      <td>0</td>\n",
              "      <td>1</td>\n",
              "      <td>0</td>\n",
              "      <td>0</td>\n",
              "      <td>0</td>\n",
              "      <td>0</td>\n",
              "      <td>0</td>\n",
              "      <td>0</td>\n",
              "      <td>1000.0</td>\n",
              "    </tr>\n",
              "    <tr>\n",
              "      <th>2</th>\n",
              "      <td>0.037</td>\n",
              "      <td>0.30</td>\n",
              "      <td>0.65</td>\n",
              "      <td>0.008</td>\n",
              "      <td>0.012</td>\n",
              "      <td>0.0</td>\n",
              "      <td>0.0</td>\n",
              "      <td>0.0</td>\n",
              "      <td>0.0</td>\n",
              "      <td>0.0</td>\n",
              "      <td>...</td>\n",
              "      <td>0</td>\n",
              "      <td>0</td>\n",
              "      <td>1</td>\n",
              "      <td>0</td>\n",
              "      <td>0</td>\n",
              "      <td>0</td>\n",
              "      <td>0</td>\n",
              "      <td>0</td>\n",
              "      <td>0</td>\n",
              "      <td>1000.0</td>\n",
              "    </tr>\n",
              "    <tr>\n",
              "      <th>3</th>\n",
              "      <td>0.037</td>\n",
              "      <td>0.31</td>\n",
              "      <td>1.03</td>\n",
              "      <td>0.007</td>\n",
              "      <td>0.014</td>\n",
              "      <td>0.0</td>\n",
              "      <td>0.0</td>\n",
              "      <td>0.0</td>\n",
              "      <td>0.0</td>\n",
              "      <td>0.0</td>\n",
              "      <td>...</td>\n",
              "      <td>0</td>\n",
              "      <td>0</td>\n",
              "      <td>1</td>\n",
              "      <td>0</td>\n",
              "      <td>0</td>\n",
              "      <td>0</td>\n",
              "      <td>0</td>\n",
              "      <td>0</td>\n",
              "      <td>0</td>\n",
              "      <td>1000.0</td>\n",
              "    </tr>\n",
              "    <tr>\n",
              "      <th>4</th>\n",
              "      <td>0.037</td>\n",
              "      <td>0.31</td>\n",
              "      <td>1.03</td>\n",
              "      <td>0.007</td>\n",
              "      <td>0.014</td>\n",
              "      <td>0.0</td>\n",
              "      <td>0.0</td>\n",
              "      <td>0.0</td>\n",
              "      <td>0.0</td>\n",
              "      <td>0.0</td>\n",
              "      <td>...</td>\n",
              "      <td>0</td>\n",
              "      <td>0</td>\n",
              "      <td>1</td>\n",
              "      <td>0</td>\n",
              "      <td>0</td>\n",
              "      <td>0</td>\n",
              "      <td>0</td>\n",
              "      <td>0</td>\n",
              "      <td>0</td>\n",
              "      <td>1000.0</td>\n",
              "    </tr>\n",
              "  </tbody>\n",
              "</table>\n",
              "<p>5 rows × 52 columns</p>\n",
              "</div>"
            ],
            "text/plain": [
              "   Carbon_%  Silicon_%  Manganese_%  Sulphur_%  Phosphorus_%  Nickel_%  \\\n",
              "0     0.037       0.30         0.65      0.008         0.012       0.0   \n",
              "1     0.037       0.30         0.65      0.008         0.012       0.0   \n",
              "2     0.037       0.30         0.65      0.008         0.012       0.0   \n",
              "3     0.037       0.31         1.03      0.007         0.014       0.0   \n",
              "4     0.037       0.31         1.03      0.007         0.014       0.0   \n",
              "\n",
              "   Chromium_%  Molybdenum_%  Vanadium_%  Copper_%  ...  Weld_Type_GMAA  \\\n",
              "0         0.0           0.0         0.0       0.0  ...               0   \n",
              "1         0.0           0.0         0.0       0.0  ...               0   \n",
              "2         0.0           0.0         0.0       0.0  ...               0   \n",
              "3         0.0           0.0         0.0       0.0  ...               0   \n",
              "4         0.0           0.0         0.0       0.0  ...               0   \n",
              "\n",
              "   Weld_Type_GTAA  Weld_Type_MMA  Weld_Type_NGGMA  Weld_Type_NGSAW  \\\n",
              "0               0              1                0                0   \n",
              "1               0              1                0                0   \n",
              "2               0              1                0                0   \n",
              "3               0              1                0                0   \n",
              "4               0              1                0                0   \n",
              "\n",
              "   Weld_Type_SA  Weld_Type_SAA  Weld_Type_ShMA  Weld_Type_TSA  Heat_Input_J_mm  \n",
              "0             0              0               0              0           1000.0  \n",
              "1             0              0               0              0           1000.0  \n",
              "2             0              0               0              0           1000.0  \n",
              "3             0              0               0              0           1000.0  \n",
              "4             0              0               0              0           1000.0  \n",
              "\n",
              "[5 rows x 52 columns]"
            ]
          },
          "execution_count": 1,
          "metadata": {},
          "output_type": "execute_result"
        }
      ],
      "source": [
        "import pandas as pd\n",
        "\n",
        "df = pd.read_csv(\"/Welding-Quality-Prediction-\\welddatabase\\welddb_new.csv\")\n",
        "df.head()\n"
      ]
    },
    {
      "cell_type": "code",
      "execution_count": 2,
      "metadata": {
        "colab": {
          "base_uri": "https://localhost:8080/"
        },
        "id": "IX75lNV9ShXI",
        "outputId": "37414d28-a29b-4dbb-d480-1e1525876435"
      },
      "outputs": [
        {
          "name": "stdout",
          "output_type": "stream",
          "text": [
            "(1652, 52)\n",
            "['Carbon_%', 'Silicon_%', 'Manganese_%', 'Sulphur_%', 'Phosphorus_%', 'Nickel_%', 'Chromium_%', 'Molybdenum_%', 'Vanadium_%', 'Copper_%', 'Cobalt_%', 'Tungsten_%', 'Oxygen_weight%', 'Titanium_weight%', 'Nitrogen_weight%', 'Aluminium_weight%', 'Boron_weight%', 'Niobium_weight%', 'Tin_weight%', 'Arsenic_weight%', 'Antimony_weight%', 'Interpass_Temp_C', 'PWHT_Temp_C', 'PWHT_Time_hours', 'Yield_Strength_MPa', 'UTS_MPa', 'Elongation_%', 'Reduction_Area_%', 'Charpy_Temp_C', 'Charpy_Energy_J', 'Hardness_kg_mm2', 'FATT_50%', 'Primary_Ferrite_%', 'Ferrite_2nd_Phase_%', 'Acicular_Ferrite_%', 'Martensite_%', 'Ferrite_Carbide_%', 'Electrode_Polarity_+', 'Electrode_Polarity_-', 'Electrode_Polarity_0', 'Power_W', 'Weld_Type_FCA', 'Weld_Type_GMAA', 'Weld_Type_GTAA', 'Weld_Type_MMA', 'Weld_Type_NGGMA', 'Weld_Type_NGSAW', 'Weld_Type_SA', 'Weld_Type_SAA', 'Weld_Type_ShMA', 'Weld_Type_TSA', 'Heat_Input_J_mm']\n"
          ]
        }
      ],
      "source": [
        "print(df.shape)\n",
        "print(df.columns.tolist())\n"
      ]
    },
    {
      "cell_type": "code",
      "execution_count": 5,
      "metadata": {},
      "outputs": [
        {
          "data": {
            "text/plain": [
              "Index(['Carbon_%', 'Silicon_%', 'Manganese_%', 'Sulphur_%', 'Phosphorus_%',\n",
              "       'Nickel_%', 'Chromium_%', 'Molybdenum_%', 'Vanadium_%', 'Copper_%',\n",
              "       'Cobalt_%', 'Tungsten_%', 'Oxygen_weight%', 'Titanium_weight%',\n",
              "       'Nitrogen_weight%', 'Aluminium_weight%', 'Boron_weight%',\n",
              "       'Niobium_weight%', 'Tin_weight%', 'Arsenic_weight%', 'Antimony_weight%',\n",
              "       'Interpass_Temp_C', 'PWHT_Temp_C', 'PWHT_Time_hours',\n",
              "       'Yield_Strength_MPa', 'UTS_MPa', 'Elongation_%', 'Reduction_Area_%',\n",
              "       'Charpy_Temp_C', 'Charpy_Energy_J', 'Hardness_kg_mm2', 'FATT_50%',\n",
              "       'Primary_Ferrite_%', 'Ferrite_2nd_Phase_%', 'Acicular_Ferrite_%',\n",
              "       'Martensite_%', 'Ferrite_Carbide_%', 'Electrode_Polarity_+',\n",
              "       'Electrode_Polarity_-', 'Electrode_Polarity_0', 'Power_W',\n",
              "       'Weld_Type_FCA', 'Weld_Type_GMAA', 'Weld_Type_GTAA', 'Weld_Type_MMA',\n",
              "       'Weld_Type_NGGMA', 'Weld_Type_NGSAW', 'Weld_Type_SA', 'Weld_Type_SAA',\n",
              "       'Weld_Type_ShMA', 'Weld_Type_TSA', 'Heat_Input_J_mm'],\n",
              "      dtype='object')"
            ]
          },
          "execution_count": 5,
          "metadata": {},
          "output_type": "execute_result"
        }
      ],
      "source": [
        "df.columns"
      ]
    },
    {
      "cell_type": "code",
      "execution_count": 3,
      "metadata": {
        "colab": {
          "base_uri": "https://localhost:8080/",
          "height": 1000
        },
        "id": "2J7VTZb1S_qT",
        "outputId": "4f4148bb-c8c2-41e4-845b-9e278fb0d27b"
      },
      "outputs": [
        {
          "data": {
            "text/plain": [
              "FATT_50%                1621\n",
              "Martensite_%            1563\n",
              "Ferrite_Carbide_%       1563\n",
              "Ferrite_2nd_Phase_%     1562\n",
              "Acicular_Ferrite_%      1562\n",
              "Primary_Ferrite_%       1554\n",
              "Hardness_kg_mm2         1514\n",
              "Elongation_%             952\n",
              "Reduction_Area_%         947\n",
              "UTS_MPa                  914\n",
              "Yield_Strength_MPa       872\n",
              "Charpy_Energy_J          773\n",
              "Charpy_Temp_C            773\n",
              "Power_W                  248\n",
              "PWHT_Temp_C               13\n",
              "PWHT_Time_hours           13\n",
              "Electrode_Polarity_0       0\n",
              "Electrode_Polarity_+       0\n",
              "Weld_Type_FCA              0\n",
              "Weld_Type_GMAA             0\n",
              "Weld_Type_GTAA             0\n",
              "Weld_Type_MMA              0\n",
              "Weld_Type_NGGMA            0\n",
              "Weld_Type_NGSAW            0\n",
              "Weld_Type_SA               0\n",
              "Weld_Type_SAA              0\n",
              "Weld_Type_ShMA             0\n",
              "Weld_Type_TSA              0\n",
              "Electrode_Polarity_-       0\n",
              "Carbon_%                   0\n",
              "Silicon_%                  0\n",
              "Interpass_Temp_C           0\n",
              "Manganese_%                0\n",
              "Sulphur_%                  0\n",
              "Phosphorus_%               0\n",
              "Nickel_%                   0\n",
              "Chromium_%                 0\n",
              "Molybdenum_%               0\n",
              "Vanadium_%                 0\n",
              "Copper_%                   0\n",
              "Cobalt_%                   0\n",
              "Tungsten_%                 0\n",
              "Oxygen_weight%             0\n",
              "Titanium_weight%           0\n",
              "Nitrogen_weight%           0\n",
              "Aluminium_weight%          0\n",
              "Boron_weight%              0\n",
              "Niobium_weight%            0\n",
              "Tin_weight%                0\n",
              "Arsenic_weight%            0\n",
              "Antimony_weight%           0\n",
              "Heat_Input_J_mm            0\n",
              "dtype: int64"
            ]
          },
          "execution_count": 3,
          "metadata": {},
          "output_type": "execute_result"
        }
      ],
      "source": [
        "df.isnull().sum().sort_values(ascending=False)\n"
      ]
    },
    {
      "cell_type": "markdown",
      "metadata": {
        "id": "d83KwbMXTr_c"
      },
      "source": [
        "**Prédiction de la résistance à la limite d’élasticité (Yield Strength) selon une formule physique**"
      ]
    },
    {
      "cell_type": "markdown",
      "metadata": {
        "id": "lDg5iHyITtlP"
      },
      "source": [
        "Dans cette étape, nous allons prédire la résistance à la limite d’élasticité du métal soudé à partir de ses caractéristiques chimiques et thermiques, en appliquant une formule physique issue d’une étude scientifique sur les aciers inoxydables austénitiques.\n",
        "\n",
        "La prédiction repose sur la corrélation entre la composition chimique et l’apport thermique du soudage, selon l’équation suivante :\n",
        "\n",
        "Yield Strength (MPa)=314+352C+2.96Cr+24.97Mo+472Cu−3.37×Heat Input\n",
        "Yield Strength (MPa)=314+352C+2.96Cr+24.97Mo+472Cu−3.37×Heat Input\n",
        "\n",
        "où :\n",
        "\n",
        "C,Cr,Mo,Cu\n",
        "C,Cr,Mo,Cu représentent les teneurs respectives en carbone, chrome, molybdène et cuivre (en % masse),\n",
        "\n",
        "Heat Input correspond à l’énergie thermique appliquée pendant le soudage (en kJ/mm)."
      ]
    },
    {
      "cell_type": "code",
      "execution_count": 8,
      "metadata": {
        "id": "HSYugmBVTw6V"
      },
      "outputs": [],
      "source": [
        "df['Yield strength (physique)'] = (\n",
        "    314\n",
        "    + 352 * df['Carbon_%']\n",
        "    + 2.96 * df['Chromium_%']\n",
        "    + 24.97 * df['Molybdenum_%']\n",
        "    + 472 * df['Copper_%']\n",
        "    - 3.37 * df['Heat_Input_J_mm']\n",
        ")\n"
      ]
    },
    {
      "cell_type": "code",
      "execution_count": 10,
      "metadata": {
        "colab": {
          "base_uri": "https://localhost:8080/",
          "height": 565
        },
        "id": "LIk_nHyZT5KW",
        "outputId": "4f19fc8f-4d85-410e-a646-5e0f6fc7713c"
      },
      "outputs": [
        {
          "data": {
            "image/png": "[encoded data removed]",
            "text/plain": [
              "<Figure size 600x600 with 1 Axes>"
            ]
          },
          "metadata": {},
          "output_type": "display_data"
        }
      ],
      "source": [
        "import matplotlib.pyplot as plt\n",
        "\n",
        "plt.figure(figsize=(6,6))\n",
        "plt.scatter(df['Yield_Strength_MPa'], df['Yield strength (physique)'], color='teal')\n",
        "\n",
        "# 🔹 Définir les bornes automatiques des axes\n",
        "min_val = min(df['Yield_Strength_MPa'].min(), df['Yield strength (physique)'].min())\n",
        "max_val = max(df['Yield_Strength_MPa'].max(), df['Yield strength (physique)'].max())\n",
        "\n",
        "# 🔹 Tracer la diagonale rouge (y = x)\n",
        "plt.plot([min_val, max_val], [min_val, max_val], 'r--', linewidth=2, label='Diagonale idéale')\n",
        "\n",
        "plt.xlabel(\"Valeur mesurée (MPa)\")\n",
        "plt.ylabel(\"Valeur prédite physiquement (MPa)\")\n",
        "plt.title(\"Comparaison des Yield Strength physiques vs mesurées\")\n",
        "plt.legend()\n",
        "plt.grid(True)\n",
        "plt.show()\n"
      ]
    },
    {
      "cell_type": "markdown",
      "metadata": {
        "id": "shBojWtbV0L1"
      },
      "source": [
        "On observe que la plupart des points se situent en dessous de cette diagonale, indiquant une sous-estimation générale des valeurs mesurées par la formule. De plus, la dispersion importante des points montre que cette relation physique ne prend pas en compte l’ensemble des facteurs influençant la résistance du matériau. Ainsi, la formule fournit une tendance globale correcte, mais reste insuffisamment précise, ce qui motive l’utilisation ultérieure de modèles de Machine Learning pour améliorer la prédiction."
      ]
    },
    {
      "cell_type": "markdown",
      "metadata": {
        "id": "LRrlJBZNWgVV"
      },
      "source": [
        "**Prédiction de Yield Strength à l’aide du Machine Learning**\n"
      ]
    },
    {
      "cell_type": "markdown",
      "metadata": {
        "id": "nEklmT9_WodU"
      },
      "source": [
        "Après avoir estimé la Yield Strength à l’aide d’une formule physique, nous allons maintenant utiliser des modèles de Machine Learning pour améliorer la précision des prédictions.\n",
        "Cette approche permet de prendre en compte un plus grand nombre de variables — composition chimique, paramètres thermiques et caractéristiques de soudage — afin de mieux modéliser les relations complexes entre ces facteurs et la résistance mécanique du matériau.\n",
        "Le modèle obtenu servira ensuite à prédire les valeurs manquantes de la Yield Strength et à compléter le jeu de données pour les prochaines étapes d’analyse."
      ]
    },
    {
      "cell_type": "markdown",
      "metadata": {
        "id": "KUpOSYQhXx3Y"
      },
      "source": [
        "On sépare les données complètes et incomplètes"
      ]
    },
    {
      "cell_type": "code",
      "execution_count": 11,
      "metadata": {
        "id": "t7O5NK_iXplt"
      },
      "outputs": [],
      "source": [
        "# Données complètes : celles qui ont une valeur mesurée de Yield Strength\n",
        "df_train = df.dropna(subset=['Yield_Strength_MPa'])\n",
        "\n",
        "# Données incomplètes : celles où la valeur est manquante\n",
        "df_missing = df[df['Yield_Strength_MPa'].isna()]\n"
      ]
    },
    {
      "cell_type": "markdown",
      "metadata": {
        "id": "TVm8dqV-Wwul"
      },
      "source": [
        "Ici,on sélectionne les colonnes qui influencent le plus la résistance du métal :"
      ]
    },
    {
      "cell_type": "code",
      "execution_count": 14,
      "metadata": {
        "id": "IozhNPk2V1d0"
      },
      "outputs": [],
      "source": [
        "features = [\n",
        "    'Carbon_%',\n",
        "    'Chromium_%',\n",
        "    'Molybdenum_%',\n",
        "    'Copper_%',\n",
        "    'Heat_Input_J_mm',\n",
        "    'Yield strength (physique)'\n",
        "]\n",
        "\n"
      ]
    },
    {
      "cell_type": "code",
      "execution_count": 15,
      "metadata": {
        "id": "NP7B9-jRW5Mq"
      },
      "outputs": [],
      "source": [
        "X_train = df_train[features]\n",
        "y_train = df_train['Yield_Strength_MPa']\n",
        "\n",
        "X_missing = df_missing[features]\n",
        "\n"
      ]
    },
    {
      "cell_type": "markdown",
      "metadata": {
        "id": "7ZJl_x_FYTGJ"
      },
      "source": [
        "Gérer les NaN dans les features (avec imputer)"
      ]
    },
    {
      "cell_type": "code",
      "execution_count": 16,
      "metadata": {
        "id": "Gk-STo0zYEgH"
      },
      "outputs": [],
      "source": [
        "from sklearn.impute import SimpleImputer\n",
        "imputer = SimpleImputer(strategy='mean')\n",
        "\n",
        "X_train = pd.DataFrame(imputer.fit_transform(X_train), columns=X_train.columns)\n",
        "X_missing = pd.DataFrame(imputer.transform(X_missing), columns=X_missing.columns)\n"
      ]
    },
    {
      "cell_type": "markdown",
      "metadata": {
        "id": "NEukVpE2YW3o"
      },
      "source": [
        "Entraîner un modèle de Machine Learning (Random Forest)"
      ]
    },
    {
      "cell_type": "code",
      "execution_count": 17,
      "metadata": {
        "id": "FHXG5L5XY7vf"
      },
      "outputs": [],
      "source": [
        "from sklearn.model_selection import train_test_split\n",
        "\n",
        "X_train_split, X_test_split, y_train_split, y_test_split = train_test_split(\n",
        "    X_train, y_train, test_size=0.2, random_state=42\n",
        ")\n"
      ]
    },
    {
      "cell_type": "code",
      "execution_count": 18,
      "metadata": {
        "colab": {
          "base_uri": "https://localhost:8080/",
          "height": 80
        },
        "id": "h51-um3tYUui",
        "outputId": "ecb584ad-0ea6-4c61-b3dc-b3d0f8b47998"
      },
      "outputs": [
        {
          "data": {
            "text/html": [
              "<style>#sk-container-id-1 {\n",
              "  /* Definition of color scheme common for light and dark mode */\n",
              "  --sklearn-color-text: black;\n",
              "  --sklearn-color-line: gray;\n",
              "  /* Definition of color scheme for unfitted estimators */\n",
              "  --sklearn-color-unfitted-level-0: #fff5e6;\n",
              "  --sklearn-color-unfitted-level-1: #f6e4d2;\n",
              "  --sklearn-color-unfitted-level-2: #ffe0b3;\n",
              "  --sklearn-color-unfitted-level-3: chocolate;\n",
              "  /* Definition of color scheme for fitted estimators */\n",
              "  --sklearn-color-fitted-level-0: #f0f8ff;\n",
              "  --sklearn-color-fitted-level-1: #d4ebff;\n",
              "  --sklearn-color-fitted-level-2: #b3dbfd;\n",
              "  --sklearn-color-fitted-level-3: cornflowerblue;\n",
              "\n",
              "  /* Specific color for light theme */\n",
              "  --sklearn-color-text-on-default-background: var(--sg-text-color, var(--theme-code-foreground, var(--jp-content-font-color1, black)));\n",
              "  --sklearn-color-background: var(--sg-background-color, var(--theme-background, var(--jp-layout-color0, white)));\n",
              "  --sklearn-color-border-box: var(--sg-text-color, var(--theme-code-foreground, var(--jp-content-font-color1, black)));\n",
              "  --sklearn-color-icon: #696969;\n",
              "\n",
              "  @media (prefers-color-scheme: dark) {\n",
              "    /* Redefinition of color scheme for dark theme */\n",
              "    --sklearn-color-text-on-default-background: var(--sg-text-color, var(--theme-code-foreground, var(--jp-content-font-color1, white)));\n",
              "    --sklearn-color-background: var(--sg-background-color, var(--theme-background, var(--jp-layout-color0, #111)));\n",
              "    --sklearn-color-border-box: var(--sg-text-color, var(--theme-code-foreground, var(--jp-content-font-color1, white)));\n",
              "    --sklearn-color-icon: #878787;\n",
              "  }\n",
              "}\n",
              "\n",
              "#sk-container-id-1 {\n",
              "  color: var(--sklearn-color-text);\n",
              "}\n",
              "\n",
              "#sk-container-id-1 pre {\n",
              "  padding: 0;\n",
              "}\n",
              "\n",
              "#sk-container-id-1 input.sk-hidden--visually {\n",
              "  border: 0;\n",
              "  clip: rect(1px 1px 1px 1px);\n",
              "  clip: rect(1px, 1px, 1px, 1px);\n",
              "  height: 1px;\n",
              "  margin: -1px;\n",
              "  overflow: hidden;\n",
              "  padding: 0;\n",
              "  position: absolute;\n",
              "  width: 1px;\n",
              "}\n",
              "\n",
              "#sk-container-id-1 div.sk-dashed-wrapped {\n",
              "  border: 1px dashed var(--sklearn-color-line);\n",
              "  margin: 0 0.4em 0.5em 0.4em;\n",
              "  box-sizing: border-box;\n",
              "  padding-bottom: 0.4em;\n",
              "  background-color: var(--sklearn-color-background);\n",
              "}\n",
              "\n",
              "#sk-container-id-1 div.sk-container {\n",
              "  /* jupyter's `normalize.less` sets `[hidden] { display: none; }`\n",
              "     but bootstrap.min.css set `[hidden] { display: none !important; }`\n",
              "     so we also need the `!important` here to be able to override the\n",
              "     default hidden behavior on the sphinx rendered scikit-learn.org.\n",
              "     See: https://github.com/scikit-learn/scikit-learn/issues/21755 */\n",
              "  display: inline-block !important;\n",
              "  position: relative;\n",
              "}\n",
              "\n",
              "#sk-container-id-1 div.sk-text-repr-fallback {\n",
              "  display: none;\n",
              "}\n",
              "\n",
              "div.sk-parallel-item,\n",
              "div.sk-serial,\n",
              "div.sk-item {\n",
              "  /* draw centered vertical line to link estimators */\n",
              "  background-image: linear-gradient(var(--sklearn-color-text-on-default-background), var(--sklearn-color-text-on-default-background));\n",
              "  background-size: 2px 100%;\n",
              "  background-repeat: no-repeat;\n",
              "  background-position: center center;\n",
              "}\n",
              "\n",
              "/* Parallel-specific style estimator block */\n",
              "\n",
              "#sk-container-id-1 div.sk-parallel-item::after {\n",
              "  content: \"\";\n",
              "  width: 100%;\n",
              "  border-bottom: 2px solid var(--sklearn-color-text-on-default-background);\n",
              "  flex-grow: 1;\n",
              "}\n",
              "\n",
              "#sk-container-id-1 div.sk-parallel {\n",
              "  display: flex;\n",
              "  align-items: stretch;\n",
              "  justify-content: center;\n",
              "  background-color: var(--sklearn-color-background);\n",
              "  position: relative;\n",
              "}\n",
              "\n",
              "#sk-container-id-1 div.sk-parallel-item {\n",
              "  display: flex;\n",
              "  flex-direction: column;\n",
              "}\n",
              "\n",
              "#sk-container-id-1 div.sk-parallel-item:first-child::after {\n",
              "  align-self: flex-end;\n",
              "  width: 50%;\n",
              "}\n",
              "\n",
              "#sk-container-id-1 div.sk-parallel-item:last-child::after {\n",
              "  align-self: flex-start;\n",
              "  width: 50%;\n",
              "}\n",
              "\n",
              "#sk-container-id-1 div.sk-parallel-item:only-child::after {\n",
              "  width: 0;\n",
              "}\n",
              "\n",
              "/* Serial-specific style estimator block */\n",
              "\n",
              "#sk-container-id-1 div.sk-serial {\n",
              "  display: flex;\n",
              "  flex-direction: column;\n",
              "  align-items: center;\n",
              "  background-color: var(--sklearn-color-background);\n",
              "  padding-right: 1em;\n",
              "  padding-left: 1em;\n",
              "}\n",
              "\n",
              "\n",
              "/* Toggleable style: style used for estimator/Pipeline/ColumnTransformer box that is\n",
              "clickable and can be expanded/collapsed.\n",
              "- Pipeline and ColumnTransformer use this feature and define the default style\n",
              "- Estimators will overwrite some part of the style using the `sk-estimator` class\n",
              "*/\n",
              "\n",
              "/* Pipeline and ColumnTransformer style (default) */\n",
              "\n",
              "#sk-container-id-1 div.sk-toggleable {\n",
              "  /* Default theme specific background. It is overwritten whether we have a\n",
              "  specific estimator or a Pipeline/ColumnTransformer */\n",
              "  background-color: var(--sklearn-color-background);\n",
              "}\n",
              "\n",
              "/* Toggleable label */\n",
              "#sk-container-id-1 label.sk-toggleable__label {\n",
              "  cursor: pointer;\n",
              "  display: block;\n",
              "  width: 100%;\n",
              "  margin-bottom: 0;\n",
              "  padding: 0.5em;\n",
              "  box-sizing: border-box;\n",
              "  text-align: center;\n",
              "}\n",
              "\n",
              "#sk-container-id-1 label.sk-toggleable__label-arrow:before {\n",
              "  /* Arrow on the left of the label */\n",
              "  content: \"▸\";\n",
              "  float: left;\n",
              "  margin-right: 0.25em;\n",
              "  color: var(--sklearn-color-icon);\n",
              "}\n",
              "\n",
              "#sk-container-id-1 label.sk-toggleable__label-arrow:hover:before {\n",
              "  color: var(--sklearn-color-text);\n",
              "}\n",
              "\n",
              "/* Toggleable content - dropdown */\n",
              "\n",
              "#sk-container-id-1 div.sk-toggleable__content {\n",
              "  max-height: 0;\n",
              "  max-width: 0;\n",
              "  overflow: hidden;\n",
              "  text-align: left;\n",
              "  /* unfitted */\n",
              "  background-color: var(--sklearn-color-unfitted-level-0);\n",
              "}\n",
              "\n",
              "#sk-container-id-1 div.sk-toggleable__content.fitted {\n",
              "  /* fitted */\n",
              "  background-color: var(--sklearn-color-fitted-level-0);\n",
              "}\n",
              "\n",
              "#sk-container-id-1 div.sk-toggleable__content pre {\n",
              "  margin: 0.2em;\n",
              "  border-radius: 0.25em;\n",
              "  color: var(--sklearn-color-text);\n",
              "  /* unfitted */\n",
              "  background-color: var(--sklearn-color-unfitted-level-0);\n",
              "}\n",
              "\n",
              "#sk-container-id-1 div.sk-toggleable__content.fitted pre {\n",
              "  /* unfitted */\n",
              "  background-color: var(--sklearn-color-fitted-level-0);\n",
              "}\n",
              "\n",
              "#sk-container-id-1 input.sk-toggleable__control:checked~div.sk-toggleable__content {\n",
              "  /* Expand drop-down */\n",
              "  max-height: 200px;\n",
              "  max-width: 100%;\n",
              "  overflow: auto;\n",
              "}\n",
              "\n",
              "#sk-container-id-1 input.sk-toggleable__control:checked~label.sk-toggleable__label-arrow:before {\n",
              "  content: \"▾\";\n",
              "}\n",
              "\n",
              "/* Pipeline/ColumnTransformer-specific style */\n",
              "\n",
              "#sk-container-id-1 div.sk-label input.sk-toggleable__control:checked~label.sk-toggleable__label {\n",
              "  color: var(--sklearn-color-text);\n",
              "  background-color: var(--sklearn-color-unfitted-level-2);\n",
              "}\n",
              "\n",
              "#sk-container-id-1 div.sk-label.fitted input.sk-toggleable__control:checked~label.sk-toggleable__label {\n",
              "  background-color: var(--sklearn-color-fitted-level-2);\n",
              "}\n",
              "\n",
              "/* Estimator-specific style */\n",
              "\n",
              "/* Colorize estimator box */\n",
              "#sk-container-id-1 div.sk-estimator input.sk-toggleable__control:checked~label.sk-toggleable__label {\n",
              "  /* unfitted */\n",
              "  background-color: var(--sklearn-color-unfitted-level-2);\n",
              "}\n",
              "\n",
              "#sk-container-id-1 div.sk-estimator.fitted input.sk-toggleable__control:checked~label.sk-toggleable__label {\n",
              "  /* fitted */\n",
              "  background-color: var(--sklearn-color-fitted-level-2);\n",
              "}\n",
              "\n",
              "#sk-container-id-1 div.sk-label label.sk-toggleable__label,\n",
              "#sk-container-id-1 div.sk-label label {\n",
              "  /* The background is the default theme color */\n",
              "  color: var(--sklearn-color-text-on-default-background);\n",
              "}\n",
              "\n",
              "/* On hover, darken the color of the background */\n",
              "#sk-container-id-1 div.sk-label:hover label.sk-toggleable__label {\n",
              "  color: var(--sklearn-color-text);\n",
              "  background-color: var(--sklearn-color-unfitted-level-2);\n",
              "}\n",
              "\n",
              "/* Label box, darken color on hover, fitted */\n",
              "#sk-container-id-1 div.sk-label.fitted:hover label.sk-toggleable__label.fitted {\n",
              "  color: var(--sklearn-color-text);\n",
              "  background-color: var(--sklearn-color-fitted-level-2);\n",
              "}\n",
              "\n",
              "/* Estimator label */\n",
              "\n",
              "#sk-container-id-1 div.sk-label label {\n",
              "  font-family: monospace;\n",
              "  font-weight: bold;\n",
              "  display: inline-block;\n",
              "  line-height: 1.2em;\n",
              "}\n",
              "\n",
              "#sk-container-id-1 div.sk-label-container {\n",
              "  text-align: center;\n",
              "}\n",
              "\n",
              "/* Estimator-specific */\n",
              "#sk-container-id-1 div.sk-estimator {\n",
              "  font-family: monospace;\n",
              "  border: 1px dotted var(--sklearn-color-border-box);\n",
              "  border-radius: 0.25em;\n",
              "  box-sizing: border-box;\n",
              "  margin-bottom: 0.5em;\n",
              "  /* unfitted */\n",
              "  background-color: var(--sklearn-color-unfitted-level-0);\n",
              "}\n",
              "\n",
              "#sk-container-id-1 div.sk-estimator.fitted {\n",
              "  /* fitted */\n",
              "  background-color: var(--sklearn-color-fitted-level-0);\n",
              "}\n",
              "\n",
              "/* on hover */\n",
              "#sk-container-id-1 div.sk-estimator:hover {\n",
              "  /* unfitted */\n",
              "  background-color: var(--sklearn-color-unfitted-level-2);\n",
              "}\n",
              "\n",
              "#sk-container-id-1 div.sk-estimator.fitted:hover {\n",
              "  /* fitted */\n",
              "  background-color: var(--sklearn-color-fitted-level-2);\n",
              "}\n",
              "\n",
              "/* Specification for estimator info (e.g. \"i\" and \"?\") */\n",
              "\n",
              "/* Common style for \"i\" and \"?\" */\n",
              "\n",
              ".sk-estimator-doc-link,\n",
              "a:link.sk-estimator-doc-link,\n",
              "a:visited.sk-estimator-doc-link {\n",
              "  float: right;\n",
              "  font-size: smaller;\n",
              "  line-height: 1em;\n",
              "  font-family: monospace;\n",
              "  background-color: var(--sklearn-color-background);\n",
              "  border-radius: 1em;\n",
              "  height: 1em;\n",
              "  width: 1em;\n",
              "  text-decoration: none !important;\n",
              "  margin-left: 1ex;\n",
              "  /* unfitted */\n",
              "  border: var(--sklearn-color-unfitted-level-1) 1pt solid;\n",
              "  color: var(--sklearn-color-unfitted-level-1);\n",
              "}\n",
              "\n",
              ".sk-estimator-doc-link.fitted,\n",
              "a:link.sk-estimator-doc-link.fitted,\n",
              "a:visited.sk-estimator-doc-link.fitted {\n",
              "  /* fitted */\n",
              "  border: var(--sklearn-color-fitted-level-1) 1pt solid;\n",
              "  color: var(--sklearn-color-fitted-level-1);\n",
              "}\n",
              "\n",
              "/* On hover */\n",
              "div.sk-estimator:hover .sk-estimator-doc-link:hover,\n",
              ".sk-estimator-doc-link:hover,\n",
              "div.sk-label-container:hover .sk-estimator-doc-link:hover,\n",
              ".sk-estimator-doc-link:hover {\n",
              "  /* unfitted */\n",
              "  background-color: var(--sklearn-color-unfitted-level-3);\n",
              "  color: var(--sklearn-color-background);\n",
              "  text-decoration: none;\n",
              "}\n",
              "\n",
              "div.sk-estimator.fitted:hover .sk-estimator-doc-link.fitted:hover,\n",
              ".sk-estimator-doc-link.fitted:hover,\n",
              "div.sk-label-container:hover .sk-estimator-doc-link.fitted:hover,\n",
              ".sk-estimator-doc-link.fitted:hover {\n",
              "  /* fitted */\n",
              "  background-color: var(--sklearn-color-fitted-level-3);\n",
              "  color: var(--sklearn-color-background);\n",
              "  text-decoration: none;\n",
              "}\n",
              "\n",
              "/* Span, style for the box shown on hovering the info icon */\n",
              ".sk-estimator-doc-link span {\n",
              "  display: none;\n",
              "  z-index: 9999;\n",
              "  position: relative;\n",
              "  font-weight: normal;\n",
              "  right: .2ex;\n",
              "  padding: .5ex;\n",
              "  margin: .5ex;\n",
              "  width: min-content;\n",
              "  min-width: 20ex;\n",
              "  max-width: 50ex;\n",
              "  color: var(--sklearn-color-text);\n",
              "  box-shadow: 2pt 2pt 4pt #999;\n",
              "  /* unfitted */\n",
              "  background: var(--sklearn-color-unfitted-level-0);\n",
              "  border: .5pt solid var(--sklearn-color-unfitted-level-3);\n",
              "}\n",
              "\n",
              ".sk-estimator-doc-link.fitted span {\n",
              "  /* fitted */\n",
              "  background: var(--sklearn-color-fitted-level-0);\n",
              "  border: var(--sklearn-color-fitted-level-3);\n",
              "}\n",
              "\n",
              ".sk-estimator-doc-link:hover span {\n",
              "  display: block;\n",
              "}\n",
              "\n",
              "/* \"?\"-specific style due to the `<a>` HTML tag */\n",
              "\n",
              "#sk-container-id-1 a.estimator_doc_link {\n",
              "  float: right;\n",
              "  font-size: 1rem;\n",
              "  line-height: 1em;\n",
              "  font-family: monospace;\n",
              "  background-color: var(--sklearn-color-background);\n",
              "  border-radius: 1rem;\n",
              "  height: 1rem;\n",
              "  width: 1rem;\n",
              "  text-decoration: none;\n",
              "  /* unfitted */\n",
              "  color: var(--sklearn-color-unfitted-level-1);\n",
              "  border: var(--sklearn-color-unfitted-level-1) 1pt solid;\n",
              "}\n",
              "\n",
              "#sk-container-id-1 a.estimator_doc_link.fitted {\n",
              "  /* fitted */\n",
              "  border: var(--sklearn-color-fitted-level-1) 1pt solid;\n",
              "  color: var(--sklearn-color-fitted-level-1);\n",
              "}\n",
              "\n",
              "/* On hover */\n",
              "#sk-container-id-1 a.estimator_doc_link:hover {\n",
              "  /* unfitted */\n",
              "  background-color: var(--sklearn-color-unfitted-level-3);\n",
              "  color: var(--sklearn-color-background);\n",
              "  text-decoration: none;\n",
              "}\n",
              "\n",
              "#sk-container-id-1 a.estimator_doc_link.fitted:hover {\n",
              "  /* fitted */\n",
              "  background-color: var(--sklearn-color-fitted-level-3);\n",
              "}\n",
              "</style><div id=\"sk-container-id-1\" class=\"sk-top-container\"><div class=\"sk-text-repr-fallback\"><pre>RandomForestRegressor(n_estimators=200, random_state=42)</pre><b>In a Jupyter environment, please rerun this cell to show the HTML representation or trust the notebook. <br />On GitHub, the HTML representation is unable to render, please try loading this page with nbviewer.org.</b></div><div class=\"sk-container\" hidden><div class=\"sk-item\"><div class=\"sk-estimator fitted sk-toggleable\"><input class=\"sk-toggleable__control sk-hidden--visually\" id=\"sk-estimator-id-1\" type=\"checkbox\" checked><label for=\"sk-estimator-id-1\" class=\"sk-toggleable__label fitted sk-toggleable__label-arrow fitted\">&nbsp;&nbsp;RandomForestRegressor<a class=\"sk-estimator-doc-link fitted\" rel=\"noreferrer\" target=\"_blank\" href=\"https://scikit-learn.org/1.4/modules/generated/sklearn.ensemble.RandomForestRegressor.html\">?<span>Documentation for RandomForestRegressor</span></a><span class=\"sk-estimator-doc-link fitted\">i<span>Fitted</span></span></label><div class=\"sk-toggleable__content fitted\"><pre>RandomForestRegressor(n_estimators=200, random_state=42)</pre></div> </div></div></div></div>"
            ],
            "text/plain": [
              "RandomForestRegressor(n_estimators=200, random_state=42)"
            ]
          },
          "execution_count": 18,
          "metadata": {},
          "output_type": "execute_result"
        }
      ],
      "source": [
        "from sklearn.ensemble import RandomForestRegressor\n",
        "\n",
        "model = RandomForestRegressor(n_estimators=200, random_state=42)\n",
        "model.fit(X_train, y_train)\n"
      ]
    },
    {
      "cell_type": "code",
      "execution_count": 19,
      "metadata": {
        "id": "QLRysbtvZAJb"
      },
      "outputs": [],
      "source": [
        "y_pred = model.predict(X_test_split)\n"
      ]
    },
    {
      "cell_type": "code",
      "execution_count": 20,
      "metadata": {
        "colab": {
          "base_uri": "https://localhost:8080/"
        },
        "id": "MPU1usgZZCZ8",
        "outputId": "e2057b8b-d44c-472d-de49-f2c7ea817ab1"
      },
      "outputs": [
        {
          "name": "stdout",
          "output_type": "stream",
          "text": [
            "MAE  : 26.01 MPa\n",
            "RMSE : 38.14 MPa\n",
            "R²   : 0.839\n"
          ]
        }
      ],
      "source": [
        "from sklearn.metrics import mean_absolute_error, mean_squared_error, r2_score\n",
        "import numpy as np\n",
        "\n",
        "mae = mean_absolute_error(y_test_split, y_pred)\n",
        "rmse = np.sqrt(mean_squared_error(y_test_split, y_pred))\n",
        "r2 = r2_score(y_test_split, y_pred)\n",
        "\n",
        "print(f\"MAE  : {mae:.2f} MPa\")\n",
        "print(f\"RMSE : {rmse:.2f} MPa\")\n",
        "print(f\"R²   : {r2:.3f}\")\n"
      ]
    },
    {
      "cell_type": "code",
      "execution_count": 22,
      "metadata": {
        "colab": {
          "base_uri": "https://localhost:8080/",
          "height": 565
        },
        "id": "jVEfc24QZHnJ",
        "outputId": "19fc0d11-0cbc-47d3-9c1c-a0f132f53246"
      },
      "outputs": [
        {
          "data": {
            "image/png": "[encoded data removed]",
            "text/plain": [
              "<Figure size 600x600 with 1 Axes>"
            ]
          },
          "metadata": {},
          "output_type": "display_data"
        }
      ],
      "source": [
        "import matplotlib.pyplot as plt\n",
        "\n",
        "plt.figure(figsize=(6,6))\n",
        "plt.scatter(y_test_split, y_pred, color='royalblue', alpha=0.7)\n",
        "plt.plot([y_test_split.min(), y_test_split.max()], [y_test_split.min(), y_test_split.max()], 'r--')\n",
        "plt.xlabel(\"Valeurs réelles (MPa)\")\n",
        "plt.ylabel(\"Valeurs prédites (MPa)\")\n",
        "plt.title(\"Comparaison des valeurs réelles vs prédites - Random Forest\")\n",
        "plt.grid(True)\n",
        "plt.show()\n"
      ]
    },
    {
      "cell_type": "markdown",
      "metadata": {
        "id": "I2kqqNaBYhPa"
      },
      "source": [
        "On prédit les valeurs manquantes"
      ]
    },
    {
      "cell_type": "code",
      "execution_count": 23,
      "metadata": {
        "id": "BQW8Ao0KYfZ2"
      },
      "outputs": [],
      "source": [
        "y_pred_missing = model.predict(X_missing)\n"
      ]
    },
    {
      "cell_type": "markdown",
      "metadata": {
        "id": "tHtrKjUQZlg6"
      },
      "source": [
        "On remplace les valeurs manquantes par les prédictions"
      ]
    },
    {
      "cell_type": "code",
      "execution_count": 25,
      "metadata": {
        "id": "tr6gY5MLZsNp"
      },
      "outputs": [],
      "source": [
        "df.loc[df['Yield_Strength_MPa'].isna(), 'Yield_Strength_MPa'] = y_pred_missing\n"
      ]
    },
    {
      "cell_type": "code",
      "execution_count": 34,
      "metadata": {
        "id": "rM-bku4aZusg"
      },
      "outputs": [],
      "source": [
        "df.to_csv(\"weld_data_yield_strength_predicted_ML.csv\", index=False)\n"
      ]
    },
    {
      "cell_type": "code",
      "execution_count": 28,
      "metadata": {
        "colab": {
          "base_uri": "https://localhost:8080/"
        },
        "id": "H_3NPfoHbHC7",
        "outputId": "94bf80e4-6d35-4856-aa75-8ac2898ab08a"
      },
      "outputs": [
        {
          "data": {
            "text/plain": [
              "0"
            ]
          },
          "execution_count": 28,
          "metadata": {},
          "output_type": "execute_result"
        }
      ],
      "source": [
        "df['Yield_Strength_MPa'].isna().sum()\n"
      ]
    },
    {
      "cell_type": "code",
      "execution_count": 29,
      "metadata": {
        "colab": {
          "base_uri": "https://localhost:8080/"
        },
        "id": "7x0otANsbAyn",
        "outputId": "5efc9f83-8f1a-4706-9c3f-dce1ffd6d9e8"
      },
      "outputs": [
        {
          "name": "stdout",
          "output_type": "stream",
          "text": [
            "<class 'pandas.core.series.Series'>\n",
            "RangeIndex: 1652 entries, 0 to 1651\n",
            "Series name: Yield_Strength_MPa\n",
            "Non-Null Count  Dtype  \n",
            "--------------  -----  \n",
            "1652 non-null   float64\n",
            "dtypes: float64(1)\n",
            "memory usage: 13.0 KB\n"
          ]
        }
      ],
      "source": [
        "df['Yield_Strength_MPa'].info()\n"
      ]
    }
  ],
  "metadata": {
    "colab": {
      "provenance": []
    },
    "kernelspec": {
      "display_name": "base",
      "language": "python",
      "name": "python3"
    },
    "language_info": {
      "codemirror_mode": {
        "name": "ipython",
        "version": 3
      },
      "file_extension": ".py",
      "mimetype": "text/x-python",
      "name": "python",
      "nbconvert_exporter": "python",
      "pygments_lexer": "ipython3",
      "version": "3.12.4"
    }
  },
  "nbformat": 4,
  "nbformat_minor": 0
}
